{
 "cells": [
  {
   "cell_type": "markdown",
   "metadata": {},
   "source": [
    "# LDA"
   ]
  },
  {
   "cell_type": "markdown",
   "metadata": {},
   "source": [
    "### Load the iris flower datasets\n",
    "[Iris Wikipedia] https://en.wikipedia.org/wiki/Iris_flower_data_set\n",
    "\n"
   ]
  },
  {
   "cell_type": "code",
   "execution_count": null,
   "metadata": {
    "collapsed": false
   },
   "outputs": [],
   "source": [
    "import pandas as pd\n",
    "\n",
    "feature_dict = {i:label for i,label in zip(\n",
    "                range(4),\n",
    "                  ('sepal length in cm',\n",
    "                  'sepal width in cm',\n",
    "                  'petal length in cm',\n",
    "                  'petal width in cm', ))}\n",
    "label_dict = {1: 'Iris-Setosa', 2: 'Iris-Versicolor', 3: 'Iris-Virginica'}\n",
    "df = pd.io.parsers.read_csv(\n",
    "    filepath_or_buffer='/home/if/ChallengeAll/machine_learning/LDA_python/datasets.csv',\n",
    "    header=None,\n",
    "    sep=',',\n",
    "    )\n",
    "df.columns = [l for i, l in sorted(feature_dict.items())] + ['label']\n",
    "df.dropna(how='all', inplace=True) \n",
    "df.tail(0)"
   ]
  },
  {
   "cell_type": "markdown",
   "metadata": {},
   "source": [
    "\n",
    "### Step1:  compute the d-dimentional mean Vector of  every class\n",
    "### where $\\mu_i, (i = 1,2,3)$ \n",
    "\n",
    "$$ \\pmb \\mu_i = \\begin{bmatrix}\n",
    "x_{\\omega_i (\\text{sepal length)}}\\\\\n",
    "x_{\\omega_i (\\text{sepal width})}\\\\\n",
    "x_{\\omega_i (\\text{petal length)}}\\\\\n",
    "x_{\\omega_i (\\text{petal width})}\\\\\n",
    "\\end{bmatrix} \\; , \\quad $$  \n",
    "\n"
   ]
  },
  {
   "cell_type": "code",
   "execution_count": null,
   "metadata": {
    "collapsed": false,
    "scrolled": true
   },
   "outputs": [],
   "source": [
    "import numpy as np\n",
    "x = df[[0,1,2,3]].values\n",
    "y = df['label'].values\n",
    "\n",
    "np.set_printoptions(precision=4)\n",
    "\n",
    "mean_vectors = []\n",
    "for cl in range(1,4):\n",
    "    mean_vectors.append(np.mean(x[y==cl], axis=0))\n",
    "    print('mean vector class %s: %s\\n' %(cl, mean_vectors[cl-1]))"
   ]
  },
  {
   "cell_type": "markdown",
   "metadata": {},
   "source": [
    "### Step2: compute the scatter matrix\n",
    "#### Flow the LDA logic formulas：\n",
    "\n"
   ]
  },
  {
   "cell_type": "markdown",
   "metadata": {},
   "source": [
    "#### 1. Within-class scatter $ S_w $\n",
    "$$ S_W = \\sum\\limits_{i=1}^{c}S_i  \\quad \\text{with} \\quad i = 1,2,3\n",
    "\\\\ \\text{where} \\quad S_i = \\sum\\limits_{\\pmb x \\in D_i}^n (\\pmb x - \\pmb \\mu_i)\\;(\\pmb x - \\pmb \\mu_i)^T\n",
    "$$\n",
    "\n",
    "#### 2. Between-class scatter $S_b$\n",
    "First, we should compute the overall mean vector $ \\mu $\n",
    "$$ \\pmb \\mu_i = \\frac{1}{N} \\sum\\limits_{\\pmb x=1}^N \\; \\pmb x_k\n",
    "$$\n",
    "\n",
    "The between-class scatter matrix $S_b$ is computed as follow:\n",
    "$$ S_B =  \\sum\\limits_{i=1}^{c}(\\pmb \\mu_i - \\pmb \\mu) (\\pmb \\mu_i - \\pmb \\mu)^T\n",
    "$$"
   ]
  },
  {
   "cell_type": "code",
   "execution_count": null,
   "metadata": {
    "collapsed": false,
    "scrolled": true
   },
   "outputs": [],
   "source": [
    "S_W = np.zeros((4,4))\n",
    "for cl,mv in zip(range(1,4), mean_vectors):\n",
    "    class_sc_mat = np.zeros((4,4))\n",
    "    for row in x[y == cl]:\n",
    "        row, mv = row.reshape(4,1), mv.reshape(4,1) # get the col vector\n",
    "        class_sc_mat += (row-mv).dot((row-mv).T) # the formula to compute the sw\n",
    "    S_W += class_sc_mat\n",
    "\n",
    "print('S_W:')\n",
    "print(S_W)"
   ]
  },
  {
   "cell_type": "code",
   "execution_count": null,
   "metadata": {
    "collapsed": false,
    "scrolled": true
   },
   "outputs": [],
   "source": [
    "overall_mean = np.mean(x, axis=0)\n",
    "\n",
    "S_B = np.zeros((4,4))\n",
    "for i,mean_vec in enumerate(mean_vectors):\n",
    "    n = x[y==i+1,:].shape[0]\n",
    "    mean_vec = mean_vec.reshape(4,1)\n",
    "    overall_mean = overall_mean.reshape(4,1)\n",
    "    S_B += n * (mean_vec - overall_mean).dot((mean_vec - overall_mean).T)\n",
    "    \n",
    "print('S_B:')\n",
    "print(S_B)"
   ]
  },
  {
   "cell_type": "markdown",
   "metadata": {},
   "source": [
    "### Step3: compute the eigenvalue(特征值) and eigevector(特征向量) of matrix\n",
    "for the logic formulas:\n",
    "$$ \\pmb S_b\\pmb{W} =  \\lambda \\pmb S_w\\pmb{W} \\\\\n",
    "\\pmb S_{W}^{-1}S_B\\pmb{W} = \\lambda\\pmb{W}$$\n",
    "$$ $$\n",
    "$\\pmb W$ is the eigevector of $\\pmb S_{W}^{-1}S_B \\text{with the eigenvalue}$ $\\pmb \\lambda$"
   ]
  },
  {
   "cell_type": "code",
   "execution_count": null,
   "metadata": {
    "collapsed": false
   },
   "outputs": [],
   "source": [
    "eig_vals, eig_vecs = np.linalg.eig(np.linalg.inv(S_W).dot(S_B))\n",
    "\n",
    "for i in range(len(eig_vals)):\n",
    "    eigvec_sc = eig_vecs[:,i].reshape(4,1)\n",
    "    print('eigenvector: {}: {} '.format(i+1, eigvec_sc.real))   \n",
    "    print('eigenvalue: {:}: {:.2e}'.format(i+1, eig_vals[i].real))\n"
   ]
  },
  {
   "cell_type": "markdown",
   "metadata": {},
   "source": [
    "### Step4: choose the linear discriminatants for new feature space\n",
    "we are not only interested in merely projecting the data into a subspace that improves \n",
    "the class separability, but also reduces the dimensionality of our feature space"
   ]
  },
  {
   "cell_type": "code",
   "execution_count": null,
   "metadata": {
    "collapsed": false
   },
   "outputs": [],
   "source": [
    "eig_pairs = [(np.abs(eig_vals[i]), eig_vecs[:, i]) for i in range(len(eig_vals))]\n",
    "\n",
    "eig_pairs = sorted(eig_pairs, key=lambda k: k[0], reverse=True)\n",
    "print('Eigenvalues in decreasing order:')\n",
    "for i in eig_pairs:\n",
    "    print(i[0])\n",
    "\n",
    "\n",
    "print('Variance:')\n",
    "eigv_sum = sum(eig_vals)\n",
    "for i,j in enumerate(eig_pairs):\n",
    "    print('eigenvalue {0:}: {1:.2%}'.format(i+1, (j[0]/eigv_sum).real))\n",
    "\n",
    "W = np.hstack((eig_pairs[0][1].reshape(4,1), eig_pairs[1][1].reshape(4,1)))\n",
    "print('W: ', W.real)"
   ]
  },
  {
   "cell_type": "markdown",
   "metadata": {},
   "source": [
    "### Step5:  Transform X samples to new space\n",
    "$$ \\pmb X_{new} = \\pmb X \\times \\pmb W $$\n",
    "\n"
   ]
  },
  {
   "cell_type": "code",
   "execution_count": null,
   "metadata": {
    "collapsed": false
   },
   "outputs": [],
   "source": [
    "x_lda = x.dot(W)\n",
    "assert x_lda.shape == (150,2)\n",
    "\n",
    "overall_mean = overall_mean.reshape(1,4)\n",
    "all_mean = overall_mean.dot(W)\n",
    "\n",
    "from matplotlib import pyplot as plt\n",
    "\n",
    "def plot_step_lda():\n",
    "\n",
    "    ax = plt.subplot(111)\n",
    "    #plt.figure()\n",
    "    plt.scatter(x=all_mean[:,0].real, y=all_mean[:,1].real,lw=2, s=40, marker ='^', color ='c', alpha=1)\n",
    "    for center in mean_vectors:\n",
    "        LDA_center = center.dot(W)\n",
    "        plt.scatter(x=LDA_center[0].real, y=LDA_center[1].real,lw=2, s=40, marker ='x', color ='k', alpha=1)\n",
    "    for label,marker,color in zip(\n",
    "        range(1,4),('o', 'o', 'o'),('red', 'green', 'blue')):\n",
    "\n",
    "        plt.scatter(x=x_lda[:,0].real[y == label],\n",
    "                    y=x_lda[:,0].real[y==label],\n",
    "                    marker=marker,\n",
    "                    lw =1,\n",
    "                    color=color,\n",
    "                    alpha=0.5,\n",
    "                    label=label_dict[label]\n",
    "                    )\n",
    "    leg = plt.legend(loc='upper right', fancybox=True)\n",
    "    leg.get_frame().set_alpha(0.5)\n",
    "    plt.title('LDA')\n",
    "\n",
    "    plt.tick_params(axis=\"both\", which=\"both\", bottom=\"off\", top=\"off\", labelbottom=\"on\",\n",
    "                    left=\"off\", right=\"off\", labelleft=\"on\")\n",
    "    plt.grid()\n",
    "    plt.show()\n",
    "    "
   ]
  },
  {
   "cell_type": "code",
   "execution_count": null,
   "metadata": {
    "collapsed": false,
    "scrolled": false
   },
   "outputs": [],
   "source": [
    "plot_step_lda()"
   ]
  },
  {
   "cell_type": "code",
   "execution_count": null,
   "metadata": {
    "collapsed": true
   },
   "outputs": [],
   "source": []
  }
 ],
 "metadata": {
  "description": "Run a pretrained model as a detector in Python.",
  "example_name": "R-CNN detection",
  "include_in_docs": true,
  "kernelspec": {
   "display_name": "Python 2",
   "language": "python",
   "name": "python2"
  },
  "language_info": {
   "codemirror_mode": {
    "name": "ipython",
    "version": 2
   },
   "file_extension": ".py",
   "mimetype": "text/x-python",
   "name": "python",
   "nbconvert_exporter": "python",
   "pygments_lexer": "ipython2",
   "version": "2.7.6"
  },
  "priority": 6
 },
 "nbformat": 4,
 "nbformat_minor": 0
}
